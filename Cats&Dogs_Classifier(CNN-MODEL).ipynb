{
 "cells": [
  {
   "cell_type": "code",
   "execution_count": 1,
   "metadata": {},
   "outputs": [],
   "source": [
    "import tensorflow as tf\n",
    "from tensorflow.keras.preprocessing.image import ImageDataGenerator"
   ]
  },
  {
   "cell_type": "code",
   "execution_count": 2,
   "metadata": {},
   "outputs": [
    {
     "data": {
      "text/plain": [
       "'2.5.0'"
      ]
     },
     "execution_count": 2,
     "metadata": {},
     "output_type": "execute_result"
    }
   ],
   "source": [
    "tf.__version__"
   ]
  },
  {
   "cell_type": "code",
   "execution_count": 3,
   "metadata": {},
   "outputs": [
    {
     "name": "stdout",
     "output_type": "stream",
     "text": [
      "Found 20386 images belonging to 2 classes.\n"
     ]
    }
   ],
   "source": [
    "train_datagen = ImageDataGenerator(\n",
    "        rescale=1./255,\n",
    "        shear_range=0.2,\n",
    "        zoom_range=0.2,\n",
    "        horizontal_flip=True)\n",
    "\n",
    "training_set = train_datagen.flow_from_directory(\n",
    "        'D:/dataset/training-set',\n",
    "        target_size=(64, 64),\n",
    "        batch_size=32,\n",
    "        class_mode='binary')"
   ]
  },
  {
   "cell_type": "code",
   "execution_count": 4,
   "metadata": {},
   "outputs": [
    {
     "name": "stdout",
     "output_type": "stream",
     "text": [
      "Found 4608 images belonging to 2 classes.\n"
     ]
    }
   ],
   "source": [
    "test_datagen = ImageDataGenerator(rescale=1./255)\n",
    "\n",
    "testing_set = test_datagen.flow_from_directory(\n",
    "        'D:/dataset/test-set',\n",
    "        target_size=(64, 64),\n",
    "        batch_size=32,\n",
    "        class_mode='binary')"
   ]
  },
  {
   "cell_type": "code",
   "execution_count": 5,
   "metadata": {},
   "outputs": [],
   "source": [
    "cnn = tf.keras.Sequential()"
   ]
  },
  {
   "cell_type": "code",
   "execution_count": 6,
   "metadata": {},
   "outputs": [],
   "source": [
    "cnn.add(tf.keras.layers.Conv2D(filters=72, kernel_size=3, activation='relu', input_shape=(64, 64, 3)))"
   ]
  },
  {
   "cell_type": "code",
   "execution_count": 7,
   "metadata": {},
   "outputs": [],
   "source": [
    "cnn.add(tf.keras.layers.MaxPool2D(pool_size=(2, 2), strides=2))"
   ]
  },
  {
   "cell_type": "code",
   "execution_count": 8,
   "metadata": {},
   "outputs": [],
   "source": [
    "cnn.add(tf.keras.layers.Conv2D(filters=72, kernel_size=3, activation='relu'))\n",
    "cnn.add(tf.keras.layers.MaxPool2D(pool_size=(2, 2), strides=2))"
   ]
  },
  {
   "cell_type": "code",
   "execution_count": 9,
   "metadata": {},
   "outputs": [],
   "source": [
    "cnn.add(tf.keras.layers.Flatten())"
   ]
  },
  {
   "cell_type": "code",
   "execution_count": 10,
   "metadata": {},
   "outputs": [],
   "source": [
    "cnn.add(tf.keras.layers.Dense(units=160, activation='relu'))"
   ]
  },
  {
   "cell_type": "code",
   "execution_count": 11,
   "metadata": {},
   "outputs": [],
   "source": [
    "cnn.add(tf.keras.layers.Dense(units=1, activation='sigmoid'))"
   ]
  },
  {
   "cell_type": "code",
   "execution_count": 12,
   "metadata": {},
   "outputs": [],
   "source": [
    "cnn.compile(optimizer='adam', loss='binary_crossentropy', metrics=['accuracy'])"
   ]
  },
  {
   "cell_type": "code",
   "execution_count": 13,
   "metadata": {
    "scrolled": true
   },
   "outputs": [
    {
     "name": "stdout",
     "output_type": "stream",
     "text": [
      "Epoch 1/25\n",
      "237/638 [==========>...................] - ETA: 3:15 - loss: 0.6913 - accuracy: 0.5357"
     ]
    },
    {
     "name": "stderr",
     "output_type": "stream",
     "text": [
      "C:\\Users\\DELL\\anaconda3\\lib\\site-packages\\PIL\\TiffImagePlugin.py:770: UserWarning: Possibly corrupt EXIF data.  Expecting to read 32 bytes but only got 0. Skipping tag 270\n",
      "  warnings.warn(\n",
      "C:\\Users\\DELL\\anaconda3\\lib\\site-packages\\PIL\\TiffImagePlugin.py:770: UserWarning: Possibly corrupt EXIF data.  Expecting to read 5 bytes but only got 0. Skipping tag 271\n",
      "  warnings.warn(\n",
      "C:\\Users\\DELL\\anaconda3\\lib\\site-packages\\PIL\\TiffImagePlugin.py:770: UserWarning: Possibly corrupt EXIF data.  Expecting to read 8 bytes but only got 0. Skipping tag 272\n",
      "  warnings.warn(\n",
      "C:\\Users\\DELL\\anaconda3\\lib\\site-packages\\PIL\\TiffImagePlugin.py:770: UserWarning: Possibly corrupt EXIF data.  Expecting to read 8 bytes but only got 0. Skipping tag 282\n",
      "  warnings.warn(\n",
      "C:\\Users\\DELL\\anaconda3\\lib\\site-packages\\PIL\\TiffImagePlugin.py:770: UserWarning: Possibly corrupt EXIF data.  Expecting to read 8 bytes but only got 0. Skipping tag 283\n",
      "  warnings.warn(\n",
      "C:\\Users\\DELL\\anaconda3\\lib\\site-packages\\PIL\\TiffImagePlugin.py:770: UserWarning: Possibly corrupt EXIF data.  Expecting to read 20 bytes but only got 0. Skipping tag 306\n",
      "  warnings.warn(\n",
      "C:\\Users\\DELL\\anaconda3\\lib\\site-packages\\PIL\\TiffImagePlugin.py:770: UserWarning: Possibly corrupt EXIF data.  Expecting to read 48 bytes but only got 0. Skipping tag 532\n",
      "  warnings.warn(\n",
      "C:\\Users\\DELL\\anaconda3\\lib\\site-packages\\PIL\\TiffImagePlugin.py:792: UserWarning: Corrupt EXIF data.  Expecting to read 2 bytes but only got 0. \n",
      "  warnings.warn(str(msg))\n"
     ]
    },
    {
     "name": "stdout",
     "output_type": "stream",
     "text": [
      "638/638 [==============================] - 372s 583ms/step - loss: 0.6501 - accuracy: 0.6073 - val_loss: 0.5691 - val_accuracy: 0.6964\n",
      "Epoch 2/25\n",
      "638/638 [==============================] - 163s 256ms/step - loss: 0.5461 - accuracy: 0.7214 - val_loss: 0.4991 - val_accuracy: 0.7561\n",
      "Epoch 3/25\n",
      "638/638 [==============================] - 177s 278ms/step - loss: 0.4952 - accuracy: 0.7591 - val_loss: 0.4935 - val_accuracy: 0.7632\n",
      "Epoch 4/25\n",
      "638/638 [==============================] - 154s 241ms/step - loss: 0.4648 - accuracy: 0.7766 - val_loss: 0.4457 - val_accuracy: 0.7899\n",
      "Epoch 5/25\n",
      "638/638 [==============================] - 144s 225ms/step - loss: 0.4381 - accuracy: 0.7972 - val_loss: 0.4199 - val_accuracy: 0.7967\n",
      "Epoch 6/25\n",
      "638/638 [==============================] - 142s 222ms/step - loss: 0.4143 - accuracy: 0.8075 - val_loss: 0.4197 - val_accuracy: 0.7982\n",
      "Epoch 7/25\n",
      "638/638 [==============================] - 142s 223ms/step - loss: 0.3915 - accuracy: 0.8236 - val_loss: 0.4293 - val_accuracy: 0.7945\n",
      "Epoch 8/25\n",
      "638/638 [==============================] - 156s 244ms/step - loss: 0.3771 - accuracy: 0.8302 - val_loss: 0.3861 - val_accuracy: 0.8251\n",
      "Epoch 9/25\n",
      "638/638 [==============================] - 161s 253ms/step - loss: 0.3567 - accuracy: 0.8431 - val_loss: 0.4220 - val_accuracy: 0.8001\n",
      "Epoch 10/25\n",
      "638/638 [==============================] - 160s 251ms/step - loss: 0.3430 - accuracy: 0.8470 - val_loss: 0.3991 - val_accuracy: 0.8238\n",
      "Epoch 11/25\n",
      "638/638 [==============================] - 166s 261ms/step - loss: 0.3272 - accuracy: 0.8555 - val_loss: 0.4200 - val_accuracy: 0.8095\n",
      "Epoch 12/25\n",
      "638/638 [==============================] - 177s 278ms/step - loss: 0.3173 - accuracy: 0.8600 - val_loss: 0.4270 - val_accuracy: 0.8047\n",
      "Epoch 13/25\n",
      "638/638 [==============================] - 162s 254ms/step - loss: 0.3039 - accuracy: 0.8662 - val_loss: 0.4327 - val_accuracy: 0.8066\n",
      "Epoch 14/25\n",
      "638/638 [==============================] - 158s 248ms/step - loss: 0.2961 - accuracy: 0.8721 - val_loss: 0.3800 - val_accuracy: 0.8286\n",
      "Epoch 15/25\n",
      "638/638 [==============================] - 167s 262ms/step - loss: 0.2701 - accuracy: 0.8860 - val_loss: 0.4619 - val_accuracy: 0.8142\n",
      "Epoch 16/25\n",
      "638/638 [==============================] - 144s 225ms/step - loss: 0.2625 - accuracy: 0.8864 - val_loss: 0.4526 - val_accuracy: 0.8153\n",
      "Epoch 17/25\n",
      "638/638 [==============================] - 144s 226ms/step - loss: 0.2551 - accuracy: 0.8926 - val_loss: 0.4091 - val_accuracy: 0.8268\n",
      "Epoch 18/25\n",
      "638/638 [==============================] - 146s 229ms/step - loss: 0.2412 - accuracy: 0.8991 - val_loss: 0.4223 - val_accuracy: 0.8186\n",
      "Epoch 19/25\n",
      "638/638 [==============================] - 161s 253ms/step - loss: 0.2306 - accuracy: 0.9052 - val_loss: 0.4107 - val_accuracy: 0.8312\n",
      "Epoch 20/25\n",
      "638/638 [==============================] - 146s 228ms/step - loss: 0.2175 - accuracy: 0.9117 - val_loss: 0.4279 - val_accuracy: 0.8158\n",
      "Epoch 21/25\n",
      "638/638 [==============================] - 142s 222ms/step - loss: 0.2181 - accuracy: 0.9115 - val_loss: 0.5787 - val_accuracy: 0.7780\n",
      "Epoch 22/25\n",
      "638/638 [==============================] - 145s 227ms/step - loss: 0.2059 - accuracy: 0.9165 - val_loss: 0.4542 - val_accuracy: 0.8194\n",
      "Epoch 23/25\n",
      "638/638 [==============================] - 146s 229ms/step - loss: 0.1968 - accuracy: 0.9199 - val_loss: 0.4616 - val_accuracy: 0.8249\n",
      "Epoch 24/25\n",
      "638/638 [==============================] - 148s 233ms/step - loss: 0.1947 - accuracy: 0.9213 - val_loss: 0.5032 - val_accuracy: 0.8197\n",
      "Epoch 25/25\n",
      "638/638 [==============================] - 149s 234ms/step - loss: 0.1886 - accuracy: 0.9210 - val_loss: 0.4927 - val_accuracy: 0.8147\n"
     ]
    },
    {
     "data": {
      "text/plain": [
       "<tensorflow.python.keras.callbacks.History at 0x1cd91319490>"
      ]
     },
     "execution_count": 13,
     "metadata": {},
     "output_type": "execute_result"
    }
   ],
   "source": [
    "cnn.fit(x=training_set, validation_data=testing_set ,epochs=25)"
   ]
  },
  {
   "cell_type": "code",
   "execution_count": 22,
   "metadata": {},
   "outputs": [],
   "source": [
    "import numpy as np\n",
    "from tensorflow.keras.preprocessing import image"
   ]
  },
  {
   "cell_type": "code",
   "execution_count": 34,
   "metadata": {},
   "outputs": [],
   "source": [
    "test_img = image.load_img(path='D:/dataset/single-prediction/cat_or_dog_1.jpg', target_size=(64, 64))\n",
    "test_img = image.img_to_array(test_img)\n",
    "test_image = np.expand_dims(test_img , axis=0)\n",
    "result = cnn.predict(test_image)\n",
    "training_set.class_indices\n",
    "if result[0][0] == 1:\n",
    "  prediction='dog'\n",
    "else:\n",
    "  prediction='cat' "
   ]
  },
  {
   "cell_type": "code",
   "execution_count": 35,
   "metadata": {},
   "outputs": [
    {
     "name": "stdout",
     "output_type": "stream",
     "text": [
      "dog\n"
     ]
    }
   ],
   "source": [
    "print(prediction)"
   ]
  },
  {
   "cell_type": "code",
   "execution_count": null,
   "metadata": {},
   "outputs": [],
   "source": []
  }
 ],
 "metadata": {
  "kernelspec": {
   "display_name": "Python 3",
   "language": "python",
   "name": "python3"
  },
  "language_info": {
   "codemirror_mode": {
    "name": "ipython",
    "version": 3
   },
   "file_extension": ".py",
   "mimetype": "text/x-python",
   "name": "python",
   "nbconvert_exporter": "python",
   "pygments_lexer": "ipython3",
   "version": "3.8.5"
  }
 },
 "nbformat": 4,
 "nbformat_minor": 4
}
